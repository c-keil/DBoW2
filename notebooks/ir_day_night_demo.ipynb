{
 "cells": [
  {
   "cell_type": "code",
   "execution_count": null,
   "metadata": {},
   "outputs": [],
   "source": [
    "import cv2\n",
    "import glob\n",
    "import numpy as np\n",
    "import sys\n",
    "import os\n",
    "import matplotlib.pyplot as plt\n",
    "import subprocess\n",
    "import csv"
   ]
  },
  {
   "cell_type": "code",
   "execution_count": null,
   "metadata": {},
   "outputs": [],
   "source": [
    "day_files_path = '/media/colin/box_data/ir_data/nuance_data/columbus_garrage_day_night/garrage_roof_nuance_jul17_5pm_1/cam_3/matlab_clahe2'\n",
    "day_descriptors_path = '/media/colin/box_data/ir_data/nuance_data/columbus_garrage_day_night/garrage_roof_nuance_jul17_5pm_1/cam_3/matlab_clahe2/irpoint_v5/descriptors'\n",
    "night_files_path = '/media/colin/box_data/ir_data/nuance_data/columbus_garrage_day_night/garrage_roof_nuance_jul14_7pm/cam_3/matlab_clahe2'\n",
    "night_descriptors_path = '/media/colin/box_data/ir_data/nuance_data/columbus_garrage_day_night/garrage_roof_nuance_jul14_7pm/cam_3/matlab_clahe2/irpoint_v5/descriptors'\n",
    "bow_executable = '/home/colin/Research/ir/DBoW2/build/simple_ir_test'\n",
    "temp_dir = '/home/colin/Research/ir/DBoW2/tmp'\n",
    "# vocab_file = '/media/colin/box_data/ir_data/dbow2_vocabularies/irpoint_k4_L10.yml.gz'\n",
    "vocab_file = '/media/colin/box_data/ir_data/dbow2_vocabularies/irpoint_k5_L10.yml.gz'\n",
    "output_file = temp_dir + \"/result\"\n",
    "\n",
    "day_image_files = sorted(glob.glob(os.path.join(day_files_path,\"*.png\")))\n",
    "night_image_files = sorted(glob.glob(os.path.join(night_files_path,\"*.png\")))\n",
    "day_descriptor_files = sorted(glob.glob(os.path.join(day_descriptors_path,\"*.npy\")))\n",
    "night_descriptor_files = sorted(glob.glob(os.path.join(night_descriptors_path,\"*.npy\")))\n",
    "n_images = 100\n",
    "n_skip = int(len(day_image_files)/n_images)+1\n",
    "\n",
    "# offset = 10\n",
    "night_image_files = [f for i, f in enumerate(night_image_files) if i%n_skip==0]\n",
    "day_image_files = [f for i, f in enumerate(day_image_files) if i%n_skip==0]\n",
    "print(\"selected {} images\".format(len(day_image_files)))\n",
    "day_image_basenames = [os.path.basename(p)[:-4] for p in day_image_files]\n",
    "night_image_basenames = [os.path.basename(p)[:-4] for p in night_image_files]\n",
    "day_descriptor_files = [os.path.join(day_descriptors_path, b+\".npy\") for b in day_image_basenames]\n",
    "night_descriptor_files = [os.path.join(night_descriptors_path, b+\".npy\") for b in night_image_basenames]\n",
    "# _ = [print( os.path.isfile(p)) for p in descriptor_files]\n",
    "\n",
    "#write descriptor file names to temp file\n",
    "desc_txt_path = os.path.join(temp_dir,\"dirs.txt\")\n",
    "with open(desc_txt_path,'w') as file:\n",
    "    for d_path in day_descriptor_files[:-1]:\n",
    "        file.write(d_path + '\\n')\n",
    "    file.write(day_descriptor_files[-1])\n",
    "\n",
    "\n",
    "#read images and descriptors\n",
    "querry_id = 20\n",
    "# querry_id = 90\n",
    "querry_image_path = night_image_files[querry_id]\n",
    "querry_image = cv2.imread( querry_image_path, cv2.IMREAD_GRAYSCALE)\n",
    "images = [cv2.imread(i, cv2.IMREAD_GRAYSCALE) for i in day_image_files]\n",
    "descriptors = [np.load(d) for d in day_descriptor_files]\n",
    "\n",
    "# #show images\n",
    "# fig, (ax1, ax2) = plt.subplots(1,2)\n",
    "# _ = ax1.imshow(querry_image)\n",
    "# ax1.set_title('querry_image')\n",
    "# _ = ax2.imshow(images[querry_id])\n",
    "# ax2.set_title('closest_image')\n",
    "\n",
    "# print(os.path.basename(offset_image_files[querry_id])[:-4])\n",
    "# print(os.path.basename((image_files[querry_id]))[:-4])"
   ]
  },
  {
   "cell_type": "code",
   "execution_count": null,
   "metadata": {},
   "outputs": [],
   "source": [
    "cmd = [bow_executable, night_descriptor_files[querry_id], desc_txt_path, vocab_file, output_file]\n",
    "# print(\" \".join(cmd))\n",
    "\n",
    "process = subprocess.Popen(cmd)\n",
    "process.wait()"
   ]
  },
  {
   "cell_type": "code",
   "execution_count": null,
   "metadata": {},
   "outputs": [],
   "source": [
    "#read results\n",
    "results = []\n",
    "with open(output_file, 'r') as csv_file:\n",
    "    reader = csv.reader(csv_file, delimiter = ',')\n",
    "    for row in reader:\n",
    "        results.append([int(row[0]), float(row[1])])\n"
   ]
  },
  {
   "cell_type": "code",
   "execution_count": null,
   "metadata": {},
   "outputs": [],
   "source": [
    "#show results\n",
    "fig, axes = plt.subplots(1,len(results)+1, figsize = (20,60))\n",
    "axes[0].imshow(querry_image)\n",
    "axes[0].set_title(\"Querry Image\")\n",
    "axes[0].axis('off')\n",
    "for i, res in enumerate(results):\n",
    "    idx = res[0]\n",
    "    score = res[1]\n",
    "    result_image = images[idx]\n",
    "    i = i +1\n",
    "    axes[i].imshow(result_image)\n",
    "    axes[i].set_title(\"score = {}\".format(score))\n",
    "    axes[i].axis('off')"
   ]
  },
  {
   "cell_type": "code",
   "execution_count": null,
   "metadata": {},
   "outputs": [],
   "source": []
  }
 ],
 "metadata": {
  "kernelspec": {
   "display_name": "sp1.15",
   "language": "python",
   "name": "python3"
  },
  "language_info": {
   "codemirror_mode": {
    "name": "ipython",
    "version": 3
   },
   "file_extension": ".py",
   "mimetype": "text/x-python",
   "name": "python",
   "nbconvert_exporter": "python",
   "pygments_lexer": "ipython3",
   "version": "3.6.13"
  },
  "orig_nbformat": 4
 },
 "nbformat": 4,
 "nbformat_minor": 2
}
